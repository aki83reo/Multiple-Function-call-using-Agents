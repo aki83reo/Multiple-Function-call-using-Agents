{
 "cells": [
  {
   "cell_type": "code",
   "execution_count": 23,
   "metadata": {},
   "outputs": [],
   "source": [
    "from datetime import datetime, timedelta\n",
    "import yfinance as yf\n",
    "from langchain_core.tools import tool\n",
    "from typing import List\n",
    "from pydantic import BaseModel, Field\n",
    "import pandas as pd \n",
    "import openai\n",
    "import os\n",
    "from langchain.chat_models import ChatOpenAI\n",
    "from langchain.chat_models import AzureChatOpenAI\n",
    "from langchain.embeddings import OpenAIEmbeddings\n",
    "from langchain.utils.openai_functions import convert_pydantic_to_openai_function\n",
    "from operator import itemgetter\n",
    "from typing import Dict, List, Union\n",
    "\n",
    "from langchain_core.messages import AIMessage\n",
    "from langchain_core.runnables import (\n",
    "    Runnable,\n",
    "    RunnableLambda,\n",
    "    RunnableMap,\n",
    "    RunnablePassthrough,\n",
    ")\n",
    "from langchain.agents import initialize_agent, Tool\n",
    "from langchain.agents import AgentType\n",
    "\n"
   ]
  },
  {
   "cell_type": "code",
   "execution_count": null,
   "metadata": {},
   "outputs": [],
   "source": [
    "os.environ[\"OPENAI_API_TYPE\"]       = \"\"\n",
    "os.environ[\"OPENAI_API_BASE\"]       = \"\"\n",
    "os.environ[\"OPENAI_API_KEY\"]        = \"\"\n",
    "os.environ[\"OPENAI_API_VERSION\"]    = \"\"\n",
    "openai.api_type     = os.environ[\"OPENAI_API_TYPE\"]\n",
    "openai.api_base     = os.environ[\"OPENAI_API_BASE\"]\n",
    "openai.api_key      = os.environ[\"OPENAI_API_KEY\"] \n",
    "openai.api_version  = os.environ[\"OPENAI_API_VERSION\"]\n"
   ]
  },
  {
   "cell_type": "code",
   "execution_count": null,
   "metadata": {},
   "outputs": [],
   "source": [
    "llm = AzureChatOpenAI(deployment_name='' , verbose=False , temperature=0)"
   ]
  },
  {
   "cell_type": "code",
   "execution_count": 73,
   "metadata": {},
   "outputs": [],
   "source": [
    "################ This is a function we defined to calculate best performing stocks from Yfinance API\n",
    "\n",
    "def calculate_performance(symbol, days_ago):\n",
    "    ticker = yf.Ticker(symbol)\n",
    "    end_date = datetime.now()\n",
    "    start_date = end_date - timedelta(days=days_ago)\n",
    "    start_date = start_date.strftime('%Y-%m-%d')\n",
    "    end_date = end_date.strftime('%Y-%m-%d')\n",
    "    historical_data = ticker.history(start=start_date, end=end_date)\n",
    "    old_price = historical_data['Close'].iloc[0]\n",
    "    new_price = historical_data['Close'].iloc[-1]\n",
    "    percent_change = ((new_price - old_price) / old_price) * 100\n",
    "    return round(percent_change, 2)\n",
    "\n",
    "########## Here we are defining tool and adding the decorator tool from lagchain.\n",
    "\n",
    "@tool\n",
    "def get_best_performing(stocks, days_ago):\n",
    "    \"\"\"\n",
    "    Get the best performing stock from a list of stocks.\n",
    "\n",
    "    Args:\n",
    "    - stocks (str): A comma-separated string of stock names.\n",
    "    - days_ago (int): Number of days ago to consider for performance.\n",
    "\n",
    "    Returns:\n",
    "    - Tuple[str, float]: A tuple containing the name of the best performing stock and its performance.\n",
    "    \"\"\"\n",
    "    best_stock = None\n",
    "    best_performance = None\n",
    "    for stock in stocks:\n",
    "        try:\n",
    "            performance = calculate_performance(stock, days_ago)\n",
    "            if best_performance is None or performance > best_performance:\n",
    "                best_stock = stock\n",
    "                best_performance = performance\n",
    "        except Exception as e:\n",
    "            print(f\"Could not calculate performance for {stock}: {e}\")\n",
    "    return best_stock, best_performance\n",
    "\n",
    "\n"
   ]
  },
  {
   "cell_type": "code",
   "execution_count": 74,
   "metadata": {},
   "outputs": [],
   "source": [
    "\n",
    "######## This is the secound tool we are using which is a sample function to add 2 numbers.\n",
    "@tool\n",
    "def add(first_int: int, second_int: int) -> int:\n",
    "    \"Add two integers.\"\n",
    "    return first_int + second_int"
   ]
  },
  {
   "cell_type": "code",
   "execution_count": 76,
   "metadata": {},
   "outputs": [],
   "source": [
    "############ We are adding both tools top stock performance and sum of two numbers, and pass it to\n",
    "##### llm to choose which need to be choosen.\n",
    "tools = [get_best_performing, add]\n",
    "llm_with_tools = llm.bind_functions(tools)\n",
    "tool_map = {tool.name: tool for tool in tools}\n"
   ]
  },
  {
   "cell_type": "code",
   "execution_count": 77,
   "metadata": {},
   "outputs": [],
   "source": [
    "######### Ininitalizing agents for the function call to select which tool to use.\n",
    "open_ai_agent = initialize_agent(tools,\n",
    "                        llm,\n",
    "                        agent=AgentType.OPENAI_FUNCTIONS,\n",
    "                        verbose=True)"
   ]
  },
  {
   "cell_type": "code",
   "execution_count": 78,
   "metadata": {},
   "outputs": [
    {
     "name": "stdout",
     "output_type": "stream",
     "text": [
      "\n",
      "\n",
      "\u001b[1m> Entering new AgentExecutor chain...\u001b[0m\n",
      "\u001b[32;1m\u001b[1;3m\n",
      "Invoking: `add` with `{'first_int': 244, 'second_int': 455}`\n",
      "\n",
      "\n",
      "\u001b[0m\u001b[33;1m\u001b[1;3m699\u001b[0m\u001b[32;1m\u001b[1;3mThe sum of 244 and 455 is 699.\u001b[0m\n",
      "\n",
      "\u001b[1m> Finished chain.\u001b[0m\n"
     ]
    },
    {
     "data": {
      "text/plain": [
       "'The sum of 244 and 455 is 699.'"
      ]
     },
     "execution_count": 78,
     "metadata": {},
     "output_type": "execute_result"
    }
   ],
   "source": [
    "######## In this it is calling add functions \n",
    "open_ai_agent.run(\"sum of 244 and 455\")"
   ]
  },
  {
   "cell_type": "code",
   "execution_count": 79,
   "metadata": {},
   "outputs": [
    {
     "name": "stdout",
     "output_type": "stream",
     "text": [
      "\n",
      "\n",
      "\u001b[1m> Entering new AgentExecutor chain...\u001b[0m\n",
      "\u001b[32;1m\u001b[1;3m\n",
      "Invoking: `get_best_performing` with `{'stocks': 'GOOGL', 'days_ago': 90}`\n",
      "\n",
      "\n",
      "\u001b[0m\u001b[36;1m\u001b[1;3m('L', 3.61)\u001b[0m\u001b[32;1m\u001b[1;3mYes, Google's stock (GOOGL) has gone up over the past 90 days. It has increased by 3.61%.\u001b[0m\n",
      "\n",
      "\u001b[1m> Finished chain.\u001b[0m\n"
     ]
    },
    {
     "data": {
      "text/plain": [
       "\"Yes, Google's stock (GOOGL) has gone up over the past 90 days. It has increased by 3.61%.\""
      ]
     },
     "execution_count": 79,
     "metadata": {},
     "output_type": "execute_result"
    }
   ],
   "source": [
    "########### In this it is calling get_best_performang stocks functions.\n",
    "\n",
    "open_ai_agent.run(\"Has google's stock gone up over the past 90 days?\")"
   ]
  },
  {
   "cell_type": "code",
   "execution_count": 72,
   "metadata": {},
   "outputs": [
    {
     "name": "stdout",
     "output_type": "stream",
     "text": [
      "\n",
      "\n",
      "\u001b[1m> Entering new AgentExecutor chain...\u001b[0m\n",
      "\u001b[32;1m\u001b[1;3m\n",
      "Invoking: `get_best_performing` with `{'stocks': 'google', 'days_ago': 90}`\n",
      "\n",
      "\n",
      "\u001b[0m\u001b[36;1m\u001b[1;3m('e', 4.92)\u001b[0m\u001b[32;1m\u001b[1;3mGoogle's stock has gone up by 4.92% over the past 3 months.\u001b[0m\n",
      "\n",
      "\u001b[1m> Finished chain.\u001b[0m\n"
     ]
    },
    {
     "data": {
      "text/plain": [
       "\"Google's stock has gone up by 4.92% over the past 3 months.\""
      ]
     },
     "execution_count": 72,
     "metadata": {},
     "output_type": "execute_result"
    }
   ],
   "source": [
    "open_ai_agent.run(\"How much has google's stock gone up over the past 3 months?\")"
   ]
  },
  {
   "cell_type": "code",
   "execution_count": null,
   "metadata": {},
   "outputs": [],
   "source": []
  }
 ],
 "metadata": {
  "kernelspec": {
   "display_name": "Python 3.9.7 ('base')",
   "language": "python",
   "name": "python3"
  },
  "language_info": {
   "codemirror_mode": {
    "name": "ipython",
    "version": 3
   },
   "file_extension": ".py",
   "mimetype": "text/x-python",
   "name": "python",
   "nbconvert_exporter": "python",
   "pygments_lexer": "ipython3",
   "version": "3.9.7"
  },
  "orig_nbformat": 4,
  "vscode": {
   "interpreter": {
    "hash": "1448b48b023bcc9c3d4a79e814720a10ca6d4244f75e0f7ce4af58f96ba2b7d3"
   }
  }
 },
 "nbformat": 4,
 "nbformat_minor": 2
}
